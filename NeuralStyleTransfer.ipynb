{
 "cells": [
  {
   "cell_type": "markdown",
   "metadata": {},
   "source": [
    "# Projeto Final EEL7514 - Neural Style Transfer\n",
    "__Bruno Griep Fernandes__\n",
    "__Roberto Phillipi Martins__\n",
    "\n",
    "__Neural Style Transfer__ é o processo em que retira-se o estilo de uma imagem de referência e aplica-se esse estilo em uma imagem alvo. Um exemplo prático disso seria em usar uma foto de uma casa como alvo e uma obra de arte como referência. Dessa forma ao transferir o estilo da obra de arte a imagem gerada irá parecer que a casa foi criada pelo artista da obra de arte. Vale lembrar que é gerada uma nova imagem, ou seja, são duas duas entradas e uma saída, onde as entradas não são modificadas.\n",
    "\n",
    "__Estilo__ para definirmos o estilo algumas features são importantes sedo elas: \n",
    "        - A coloração;\n",
    "        - A textura;  \n",
    "        - O padrão.\n",
    "__Content__ é definido como a estrutura total e as compoentes de alto nível da imagem. O objetivo principal é manter o conteúdo original da imagem de alvo, isso enquanto o estilo é transferindo.\n",
    "\n",
    "__Algorítmo__ funciona basicamente na minimização de uma função custo, que envolve as imagens de conteúdo (C), estilo (S) e gerada (G).\n",
    "\n",
    "\n",
    "\n",
    "\\begin{align*}\n",
    "    J(C,S,G) &= \\alpha Jc(C,G) + \\beta Js(S,G)\\\\\n",
    "    Jc(C,G)^{[L]} &=  \\frac{1}{2}||a^{[L][G]}-a^{[L][G]}||^2\\\\\n",
    "    Js(S,G)^{[L]} &= \\frac{1}{2} ||G^{[L][S]}-G^{[L][G]}||^2\\\\\n",
    "    G^{[L][I]} &=\\left(\\sum_{k=0}^{k=ch}\\sum_{k'=0}^{k'=ch} \\right)\n",
    "\\sum_{i=0}^{i=w}\\sum_{j=0}^{j=h}||a^{[L][i][j][k]}-a^{[L][i][j][k']}||^2\n",
    "\\end{align*}\n",
    "\n",
    "Onde Jc(C,G) representa a distância euclidiana entre as ativações da imagem C e imagem G numa camada L. Como queremos minimizar o custo, isso significa que queremos que as representações de C e G na camada L sejam similares.\n",
    "\n",
    "No caso de Js(S,G), nós definimos o \"estilo\" de uma imagem como a correlação entre os canais de uma camada de ativação da rede convolucional. Este valor é definido como G (Gram Matrix),e é a matriz de correlação entre os diversos canais de uma camada da rede convolucional. \n",
    "\n",
    "O objetivo é que o estilo da imagem G seja similar ao estilo da imagem S, e portanto Js(S,G) é definido como a distância euclidiana entre os estilos das duas imagens.\n",
    "\n",
    "Definido o custo, o objetivo do algorítimo é minimizar a função J(C,S,G), e pode ser resolvido com algorítimos como Gradient Descent\n",
    "\n",
    "__Loss__ no nosso contexto de processamento de imagens podemos definir a perda a partir da seguinte forma:\n",
    "$$loss = distance(style(Image_{reference}) - style(Image_{generated})) +\n",
    "       distance(content(Image_{original}) - content(Image_{generated}))$$\n",
    "       \n",
    "Onde, \n",
    "\n",
    "- $distance$ é a distância euclidiana.\n",
    "- $style$ é a função que calcula a presença do estilo na imagem de referência na gerada.\n",
    "- $content$ é a função que calcula a representação do conteúdo da imagem original na gerada.\n",
    "(essa parte aqui melhorar, ficou estranho)\n"
   ]
  },
  {
   "cell_type": "markdown",
   "metadata": {},
   "source": [
    "## Visualizando as imagens a ser utilizidas"
   ]
  },
  {
   "cell_type": "code",
   "execution_count": 1,
   "metadata": {},
   "outputs": [
    {
     "ename": "ModuleNotFoundError",
     "evalue": "No module named 'skimage'",
     "output_type": "error",
     "traceback": [
      "\u001b[0;31m---------------------------------------------------------------------------\u001b[0m",
      "\u001b[0;31mModuleNotFoundError\u001b[0m                       Traceback (most recent call last)",
      "\u001b[0;32m<ipython-input-1-7d61cd470670>\u001b[0m in \u001b[0;36m<module>\u001b[0;34m()\u001b[0m\n\u001b[0;32m----> 1\u001b[0;31m \u001b[0;32mfrom\u001b[0m \u001b[0mskimage\u001b[0m \u001b[0;32mimport\u001b[0m \u001b[0mio\u001b[0m\u001b[0;34m\u001b[0m\u001b[0m\n\u001b[0m\u001b[1;32m      2\u001b[0m \u001b[0;32mfrom\u001b[0m \u001b[0mglob\u001b[0m \u001b[0;32mimport\u001b[0m \u001b[0mglob\u001b[0m\u001b[0;34m\u001b[0m\u001b[0m\n\u001b[1;32m      3\u001b[0m \u001b[0;32mfrom\u001b[0m \u001b[0mmatplotlib\u001b[0m \u001b[0;32mimport\u001b[0m \u001b[0mpyplot\u001b[0m \u001b[0;32mas\u001b[0m \u001b[0mplt\u001b[0m\u001b[0;34m\u001b[0m\u001b[0m\n\u001b[1;32m      4\u001b[0m \u001b[0;34m\u001b[0m\u001b[0m\n\u001b[1;32m      5\u001b[0m \u001b[0mget_ipython\u001b[0m\u001b[0;34m(\u001b[0m\u001b[0;34m)\u001b[0m\u001b[0;34m.\u001b[0m\u001b[0mrun_line_magic\u001b[0m\u001b[0;34m(\u001b[0m\u001b[0;34m'matplotlib'\u001b[0m\u001b[0;34m,\u001b[0m \u001b[0;34m'inline'\u001b[0m\u001b[0;34m)\u001b[0m\u001b[0;34m\u001b[0m\u001b[0m\n",
      "\u001b[0;31mModuleNotFoundError\u001b[0m: No module named 'skimage'"
     ]
    }
   ],
   "source": [
    "from skimage import io\n",
    "from glob import glob\n",
    "from matplotlib import pyplot as plt\n",
    "\n",
    "%matplotlib inline"
   ]
  }
 ],
 "metadata": {
  "kernelspec": {
   "display_name": "Python 3",
   "language": "python",
   "name": "python3"
  },
  "language_info": {
   "codemirror_mode": {
    "name": "ipython",
    "version": 3
   },
   "file_extension": ".py",
   "mimetype": "text/x-python",
   "name": "python",
   "nbconvert_exporter": "python",
   "pygments_lexer": "ipython3",
   "version": "3.6.5"
  }
 },
 "nbformat": 4,
 "nbformat_minor": 2
}
